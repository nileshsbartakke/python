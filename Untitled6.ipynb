{
 "cells": [
  {
   "cell_type": "markdown",
   "metadata": {},
   "source": [
    "# 1.How to iterate over a list in python?\n",
    "##Ans:List Can be Iterate by index\n"
   ]
  },
  {
   "cell_type": "code",
   "execution_count": 13,
   "metadata": {},
   "outputs": [
    {
     "name": "stdout",
     "output_type": "stream",
     "text": [
      "Usin For Loop1\n",
      "A\n",
      "B\n",
      "C\n",
      "D\n",
      "Usin For Loop2\n",
      "A\n",
      "B\n",
      "C\n",
      "D\n",
      "While Loop3\n",
      "A\n",
      "B\n",
      "C\n",
      "D\n"
     ]
    }
   ],
   "source": [
    "list1=[\"A\",\"B\",\"C\",\"D\"]\n",
    "\n",
    "print(\"Usin For Loop1\")\n",
    "for i in list1:\n",
    "    print(i)\n",
    "\n",
    "print(\"Usin For Loop2\")\n",
    "for i in range(len(list1)):\n",
    "    print(list1[i])\n",
    "    \n",
    "print(\"While Loop3\")\n",
    "i=0\n",
    "while i < len(list1):\n",
    "    print(list1[i])\n",
    "    i+=1"
   ]
  },
  {
   "cell_type": "markdown",
   "metadata": {},
   "source": [
    "# 2. How to iterate over a dict in python?\n",
    "It is best to think of a dictionary as a set of key: value pairs, with the requirement that the keys are unique (within one dictionary)."
   ]
  },
  {
   "cell_type": "code",
   "execution_count": 72,
   "metadata": {},
   "outputs": [
    {
     "name": "stdout",
     "output_type": "stream",
     "text": [
      "##############################\n",
      "{'Name': ['Nilesh', 'Jhon', 'Tom', 'Sam'], 'Roll_No': [1, 2, 3, 4], 'Salary': [1000, 2000, 3000]}\n",
      "Name\n",
      "Roll_No\n",
      "Salary\n",
      "##############################\n",
      "Name ['Nilesh', 'Jhon', 'Tom', 'Sam']\n",
      "Roll_No [1, 2, 3, 4]\n",
      "Salary [1000, 2000, 3000]\n",
      "##############################\n",
      "['Nilesh', 'Jhon', 'Tom', 'Sam']\n",
      "[1, 2, 3, 4]\n",
      "[1000, 2000, 3000]\n",
      "******************************\n",
      "['Nilesh', 'Jhon', 'Tom', 'Sam']\n",
      "[1, 2, 3, 4]\n",
      "[1000, 2000, 3000]\n"
     ]
    }
   ],
   "source": [
    "print(\"#\"*30)\n",
    "db={\"Name\":[\"Nilesh\",\"Jhon\",\"Tom\",\"Sam\"],\"Roll_No\":[1,2,3,4],\"Salary\":[1000,2000,3000]}\n",
    "print(db)\n",
    "for i in db.keys():\n",
    "    print(i)#Key\n",
    "print(\"#\"*30)\n",
    "for i,j in db.items():\n",
    "    print(i,j)\n",
    "print(\"#\"*30)\n",
    "for i,j in db.items():\n",
    "    if i==\"Name\":\n",
    "        print(j)        \n",
    "for i,j in db.items():\n",
    "    if i==\"Roll_No\":\n",
    "        print(j)\n",
    "for i,j in db.items():\n",
    "    if i==\"Salary\":\n",
    "        print(j)\n",
    "print(\"*\"*30)      \n",
    "for i, j in db.items():\n",
    "    print(j)"
   ]
  },
  {
   "cell_type": "markdown",
   "metadata": {},
   "source": [
    "## 3. Define list of tuples with size 4?"
   ]
  },
  {
   "cell_type": "code",
   "execution_count": 77,
   "metadata": {},
   "outputs": [
    {
     "name": "stdout",
     "output_type": "stream",
     "text": [
      "('Swordfish', 'Dominic Sena', 2001)\n",
      "('Snowden', ' Oliver Stone', 2016)\n",
      "('Taxi Driver', 'Martin Scorsese', 1976)\n"
     ]
    }
   ],
   "source": [
    "list2=[('Swordfish', 'Dominic Sena', 2001), ('Snowden', ' Oliver Stone', 2016), ('Taxi Driver', 'Martin Scorsese', 1976)]\n",
    "for i in range(len(list2)):\n",
    "    print(list2[i])"
   ]
  },
  {
   "cell_type": "code",
   "execution_count": null,
   "metadata": {},
   "outputs": [],
   "source": []
  }
 ],
 "metadata": {
  "kernelspec": {
   "display_name": "Python 3",
   "language": "python",
   "name": "python3"
  },
  "language_info": {
   "codemirror_mode": {
    "name": "ipython",
    "version": 3
   },
   "file_extension": ".py",
   "mimetype": "text/x-python",
   "name": "python",
   "nbconvert_exporter": "python",
   "pygments_lexer": "ipython3",
   "version": "3.7.1"
  }
 },
 "nbformat": 4,
 "nbformat_minor": 2
}
