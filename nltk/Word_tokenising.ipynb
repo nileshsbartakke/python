{
 "cells": [
  {
   "cell_type": "markdown",
   "metadata": {},
   "source": [
    "# nltk Sentence form"
   ]
  },
  {
   "cell_type": "code",
   "execution_count": 20,
   "metadata": {},
   "outputs": [
    {
     "data": {
      "image/png": "[encoded data removed]",
      "text/plain": [
       "Tree('S', [('At', 'IN'), ('eight', 'CD'), (\"o'clock\", 'NN'), ('on', 'IN'), ('Thursday', 'NNP'), ('morning', 'NN'), ('...', ':'), Tree('PERSON', [('Arthur', 'NNP')]), ('did', 'VBD'), (\"n't\", 'RB'), ('feel', 'VB'), ('very', 'RB'), ('good', 'JJ'), ('.', '.')])"
      ]
     },
     "execution_count": 20,
     "metadata": {},
     "output_type": "execute_result"
    }
   ],
   "source": [
    "import nltk\n",
    "sentence=\"\"\"At eight o'clock on Thursday morning\n",
    "... Arthur didn't feel very good.\"\"\"\n",
    "#token=nltk.word_tokenize(sentence)\n",
    "tagged=nltk.pos_tag(token)\n",
    "tagged[0:6]\n",
    "entities=nltk.chunk.ne_chunk(tagged)\n",
    "entities\n",
    "#print(entities)"
   ]
  },
  {
   "cell_type": "code",
   "execution_count": 9,
   "metadata": {},
   "outputs": [
    {
     "name": "stdout",
     "output_type": "stream",
     "text": [
      "['Hello Mr. Smith ,how are you doing today?', 'the weather is great and python is awesome.', 'The sky is peenkesh-blue and you shuld not eat cardboard']\n",
      "['Hello', 'Mr.', 'Smith', ',', 'how', 'are', 'you', 'doing', 'today', '?', 'the', 'weather', 'is', 'great', 'and', 'python', 'is', 'awesome', '.', 'The', 'sky', 'is', 'peenkesh-blue', 'and', 'you', 'shuld', 'not', 'eat', 'cardboard']\n"
     ]
    }
   ],
   "source": [
    "from nltk import sent_tokenize,word_tokenize\n",
    "example=\"\"\"Hello Mr. Smith ,how are you doing today? the weather is great and python is awesome.\n",
    "The sky is peenkesh-blue. You shuld not eat cardboard\"\"\"\n",
    "\n",
    "print(sent_tokenize(example_text))\n",
    "print(word_tokenize(example_text))"
   ]
  },
  {
   "cell_type": "code",
   "execution_count": 10,
   "metadata": {},
   "outputs": [
    {
     "name": "stdout",
     "output_type": "stream",
     "text": [
      "Hello\n",
      "Mr.\n",
      "Smith\n",
      ",\n",
      "how\n",
      "are\n",
      "you\n",
      "doing\n",
      "today\n",
      "?\n",
      "the\n",
      "weather\n",
      "is\n",
      "great\n",
      "and\n",
      "python\n",
      "is\n",
      "awesome\n",
      ".\n",
      "The\n",
      "sky\n",
      "is\n",
      "peenkesh-blue\n",
      "and\n",
      "you\n",
      "shuld\n",
      "not\n",
      "eat\n",
      "cardboard\n"
     ]
    }
   ],
   "source": [
    "for i in word_tokenize(example_text):\n",
    "    print(i)"
   ]
  },
  {
   "cell_type": "markdown",
   "metadata": {},
   "source": [
    "# Stop_word in English and filtering"
   ]
  },
  {
   "cell_type": "code",
   "execution_count": 22,
   "metadata": {},
   "outputs": [
    {
     "name": "stdout",
     "output_type": "stream",
     "text": [
      "{'hers', \"don't\", 'ain', 'to', 'during', 'under', 'i', 'mightn', 'yourself', 'until', 'can', 'who', 'further', 'now', 'there', 'doesn', 'having', \"needn't\", 'your', 'each', 'haven', \"you're\", 'she', 'where', 'doing', 'his', 'than', \"isn't\", 'yours', 'do', 'wouldn', 'its', 'with', \"couldn't\", 'been', 'both', 'isn', 'own', 'again', 'more', 'he', 'have', 'then', 'which', 'and', 'out', 'most', 'aren', \"won't\", \"you've\", 'nor', 'how', 've', 'no', 'against', 'if', 'above', \"you'll\", \"didn't\", 'ourselves', 's', 'it', 'hasn', 'needn', 'be', 'why', 'him', 'will', 'are', 'into', 'shouldn', 'any', 'between', 'my', \"shouldn't\", 'me', 'an', \"doesn't\", 'after', 'down', 'hadn', \"it's\", \"mustn't\", 'they', 'did', 'won', 'is', 'some', 'has', 'shan', 'wasn', \"haven't\", 'am', 'as', 'mustn', 'of', \"hasn't\", 'before', 'not', 'through', 'a', 'by', 'was', 'at', \"weren't\", \"wouldn't\", 'such', 'weren', 'from', 'couldn', 'ours', 'our', 'because', 'should', 'didn', 'off', 'being', 'don', 'o', 'myself', 'too', 'you', 'themselves', 'them', 'all', 'these', 'while', 'about', \"shan't\", \"aren't\", 'theirs', 'just', 're', 'yourselves', 'what', 'over', 'or', 'only', 'itself', 'very', \"should've\", \"wasn't\", 'on', 'we', 'herself', 'whom', 'here', 'but', \"hadn't\", 'does', 'll', 'm', 'in', 'y', 'the', 'once', 'd', 'so', 'ma', 'were', 'for', 'up', 'when', 'same', 'her', \"mightn't\", 'himself', 'those', 'few', 'other', 't', 'had', \"she's\", \"that'll\", 'that', 'their', 'below', 'this', \"you'd\"}\n"
     ]
    }
   ],
   "source": [
    "from nltk.corpus import stopwords\n",
    "from nltk.tokenize import word_tokenize\n",
    "example_text1=\"this is example to showing off stop word filtration\"\n",
    "stop_word=set(stopwords.words(\"english\"))\n",
    "print(stop_word)"
   ]
  },
  {
   "cell_type": "markdown",
   "metadata": {},
   "source": [
    "# tokenising"
   ]
  },
  {
   "cell_type": "code",
   "execution_count": 24,
   "metadata": {},
   "outputs": [
    {
     "name": "stdout",
     "output_type": "stream",
     "text": [
      "['example', 'showing', 'stop', 'word', 'filtration']\n"
     ]
    }
   ],
   "source": [
    "words=word_tokenize(example_text1)\n",
    "tokenise_word=[]\n",
    "for w in words:\n",
    "    if w not in stop_word:\n",
    "        tokenise_word.append(w)\n",
    "print(tokenise_word)        "
   ]
  },
  {
   "cell_type": "code",
   "execution_count": 26,
   "metadata": {},
   "outputs": [
    {
     "data": {
      "text/plain": [
       "['example', 'showing', 'stop', 'word', 'filtration']"
      ]
     },
     "execution_count": 26,
     "metadata": {},
     "output_type": "execute_result"
    }
   ],
   "source": [
    "tokenise_word1=[w for w in words if w not in stop_word]\n",
    "tokenise_word1"
   ]
  },
  {
   "cell_type": "markdown",
   "metadata": {},
   "source": [
    "# Stemming"
   ]
  },
  {
   "cell_type": "markdown",
   "metadata": {},
   "source": [
    "# I was a taking ride in the car.\n",
    "# I was riding in the car.\n",
    "\n",
    "Word\n",
    "Concentric\n",
    "\n",
    "ride-riding\n"
   ]
  },
  {
   "cell_type": "code",
   "execution_count": 27,
   "metadata": {},
   "outputs": [
    {
     "name": "stdout",
     "output_type": "stream",
     "text": [
      "python\n",
      "python\n",
      "python\n",
      "python\n",
      "pythonli\n"
     ]
    }
   ],
   "source": [
    "from nltk.stem import PorterStemmer\n",
    "from nltk.tokenize import word_tokenize\n",
    "\n",
    "ps=PorterStemmer()\n",
    "\n",
    "example_word=[\"python\",\"pythoner\",\"pythoned\",\"pythoning\",\"pythonly\"]\n",
    "\n",
    "for w in example_word:\n",
    "    print(ps.stem(w))"
   ]
  },
  {
   "cell_type": "code",
   "execution_count": 29,
   "metadata": {},
   "outputs": [
    {
     "name": "stdout",
     "output_type": "stream",
     "text": [
      "['python', 'python', 'python', 'python', 'pythonli']\n"
     ]
    }
   ],
   "source": [
    "steming_word=[ps.stem(w) for w in example_word]\n",
    "print(steming_word)"
   ]
  },
  {
   "cell_type": "code",
   "execution_count": 31,
   "metadata": {},
   "outputs": [
    {
     "name": "stdout",
     "output_type": "stream",
     "text": [
      "['It', 'is', 'veri', 'import', 'to', 'be', 'pythonli', 'while', 'you', 'are', 'python', 'with', 'python.al', 'python', 'have', 'python', 'poorli', 'at', 'least', 'onc', '.']\n"
     ]
    }
   ],
   "source": [
    "new_text=\"It is very important to be pythonly while you are pythoning with python.All pythoner have pythoned poorly at least once.\"\n",
    "word1=word_tokenize(new_text)\n",
    "steming_word1=[ps.stem(w) for w in word1]\n",
    "print(steming_word1)"
   ]
  },
  {
   "cell_type": "markdown",
   "metadata": {},
   "source": [
    "# Chunking "
   ]
  },
  {
   "cell_type": "code",
   "execution_count": 32,
   "metadata": {},
   "outputs": [],
   "source": [
    "import nltk\n",
    "from nltk.corpus import state_union\n",
    "from nltk.tokenize import PunktSentenceTokenizer\n"
   ]
  },
  {
   "cell_type": "markdown",
   "metadata": {},
   "source": [
    "# '''POS tag list:\n",
    "\n",
    "    CC coordinating conjunction\n",
    "    CD cardinal digit\n",
    "    DT determiner\n",
    "    EX existential there (like: \"there is\" ... think of it like \"there exists\")\n",
    "    FW foreign word\n",
    "    IN preposition/subordinating conjunction\n",
    "    JJ adjective 'big'\n",
    "    JJR adjective, comparative 'bigger'\n",
    "    JJS adjective, superlative 'biggest'\n",
    "    LS list marker 1)\n",
    "    MD modal could, will\n",
    "    NN noun, singular 'desk'\n",
    "    NNS noun plural 'desks'\n",
    "    NNP proper noun, singular 'Harrison'\n",
    "    NNPS proper noun, plural 'Americans'\n",
    "    PDT predeterminer 'all the kids'\n",
    "    POS possessive ending parent's\n",
    "    PRP personal pronoun I, he, she\n",
    "    PRP$ possessive pronoun my, his, hers\n",
    "    RB adverb very, silently,\n",
    "    RBR adverb, comparative better\n",
    "    RBS adverb, superlative best\n",
    "    RP particle give up\n",
    "    TO to go 'to' the store.\n",
    "    UH interjection errrrrrrrm\n",
    "    VB verb, base form take\n",
    "    VBD verb, past tense took\n",
    "    VBG verb, gerund/present participle taking\n",
    "    VBN verb, past participle taken\n",
    "    VBP verb, sing. present, non-3d take\n",
    "    VBZ verb, 3rd person sing. present takes\n",
    "    WDT wh-determiner which\n",
    "    WP wh-pronoun who, what\n",
    "    WP$ possessive wh-pronoun whose\n",
    "    WRB wh-abverb where, when\n",
    "    \n",
    "'''"
   ]
  },
  {
   "cell_type": "code",
   "execution_count": null,
   "metadata": {},
   "outputs": [],
   "source": [
    "train_text=state_union.raw(\"2005-GWBush.txt\")\n",
    "sample_text=state_union.raw(\"2006-GWBush.txt\")\n",
    "\n",
    "custom_sent_tokenizer=PunktSentenceTokenizer(train_text)\n",
    "tokenized=custom_sent_tokenizer.tokenize(sample_text)\n",
    "\n",
    "def process_content():\n",
    "    try:\n",
    "        for i in tokenized:\n",
    "            words=nltk.word_tokenize(i)\n",
    "            tagged=nltk.pos_tag(words)\n",
    "            \n",
    "            chunkGram=r\"\"\"Chunk: {<RB.?>*<VB.?>*<NNP>+<NN>?}\"\"\"\n",
    "            chunkParser=nltk.RegexpParser(chunkGram)\n",
    "            chunked=chunkParser.parse(tagged)\n",
    "            chunked.draw() \n",
    "            \n",
    "    except Exception as e:\n",
    "        print(str(e))\n",
    "process_content()"
   ]
  },
  {
   "cell_type": "code",
   "execution_count": null,
   "metadata": {},
   "outputs": [],
   "source": []
  }
 ],
 "metadata": {
  "kernelspec": {
   "display_name": "Python 3",
   "language": "python",
   "name": "python3"
  },
  "language_info": {
   "codemirror_mode": {
    "name": "ipython",
    "version": 3
   },
   "file_extension": ".py",
   "mimetype": "text/x-python",
   "name": "python",
   "nbconvert_exporter": "python",
   "pygments_lexer": "ipython3",
   "version": "3.7.3"
  }
 },
 "nbformat": 4,
 "nbformat_minor": 2
}
