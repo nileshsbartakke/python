{
 "cells": [
  {
   "cell_type": "markdown",
   "metadata": {},
   "source": [
    "# Predicting male & female from its names Using nltk"
   ]
  },
  {
   "cell_type": "code",
   "execution_count": null,
   "metadata": {},
   "outputs": [
    {
     "name": "stdout",
     "output_type": "stream",
     "text": [
      "***************\n",
      "Enter your name & try english names sam\n",
      "male\n",
      "0.7635679742074154\n",
      "***************\n",
      "Enter your name & try english names samar\n",
      "male\n",
      "0.7639709833422891\n",
      "***************\n",
      "Enter your name & try english names sameera\n",
      "female\n",
      "0.7624932831810854\n",
      "***************\n",
      "Enter your name & try english names alice\n",
      "female\n",
      "0.7620902740462118\n",
      "***************\n",
      "Enter your name & try english names bob\n",
      "male\n",
      "0.7635679742074154\n",
      "***************\n",
      "Enter your name & try english names sam\n",
      "male\n",
      "0.7619559376679205\n",
      "***************\n",
      "Enter your name & try english names tom\n",
      "male\n",
      "0.765045674368619\n",
      "***************\n"
     ]
    }
   ],
   "source": [
    "import random \n",
    "from nltk.corpus import names \n",
    "import nltk \n",
    "  \n",
    "while exe!=\" \":\n",
    "    print(\"*\"*15)\n",
    "    exe=input(\"Enter your name & try english names \")    \n",
    "    def gender_features(word): \n",
    "        return {'last_letter':word[-1]} \n",
    "  \n",
    "# preparing a list of examples and corresponding class labels. \n",
    "    labeled_names = ([(name, 'male') for name in names.words('male.txt')]+\n",
    "                 [(name, 'female') for name in names.words('female.txt')]) \n",
    "  \n",
    "    random.shuffle(labeled_names) \n",
    "  \n",
    "# we use the feature extractor to process the names data. \n",
    "    featuresets = [(gender_features(n), gender)  \n",
    "               for (n, gender)in labeled_names] \n",
    "  \n",
    "# Divide the resulting list of feature \n",
    "# sets into a training set and a test set. \n",
    "    train_set, test_set = featuresets[500:], featuresets[:500] \n",
    "  \n",
    "# The training set is used to  \n",
    "# train a new \"naive Bayes\" classifier. \n",
    "    classifier = nltk.NaiveBayesClassifier.train(train_set) \n",
    "  \n",
    "    print(classifier.classify(gender_features(exe))) \n",
    "  \n",
    "# output should be 'male' \n",
    "    print(nltk.classify.accuracy(classifier, train_set)) "
   ]
  },
  {
   "cell_type": "code",
   "execution_count": null,
   "metadata": {},
   "outputs": [],
   "source": []
  },
  {
   "cell_type": "code",
   "execution_count": null,
   "metadata": {},
   "outputs": [],
   "source": []
  },
  {
   "cell_type": "code",
   "execution_count": null,
   "metadata": {},
   "outputs": [],
   "source": []
  }
 ],
 "metadata": {
  "kernelspec": {
   "display_name": "Python 3",
   "language": "python",
   "name": "python3"
  },
  "language_info": {
   "codemirror_mode": {
    "name": "ipython",
    "version": 3
   },
   "file_extension": ".py",
   "mimetype": "text/x-python",
   "name": "python",
   "nbconvert_exporter": "python",
   "pygments_lexer": "ipython3",
   "version": "3.7.3"
  }
 },
 "nbformat": 4,
 "nbformat_minor": 2
}
