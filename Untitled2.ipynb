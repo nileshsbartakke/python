{
 "cells": [
  {
   "cell_type": "code",
   "execution_count": 30,
   "metadata": {},
   "outputs": [
    {
     "name": "stdout",
     "output_type": "stream",
     "text": [
      "Enter number:-53\n",
      "Prime Number\n"
     ]
    }
   ],
   "source": [
    "#Prime Number Logic (Simple logic)\n",
    "\n",
    "def prim(num):\n",
    "    if num > 1:\n",
    "        for i in range(2,num):\n",
    "            if (num%i)==0 :\n",
    "                print(\"Not Prime Number\")\n",
    "                break\n",
    "        else:\n",
    "            print(\"Prime Number\")\n",
    "    else:\n",
    "        print(\"1 is not Prime number\")\n",
    "n=int(input(\"Enter number:-\"))\n",
    "prim(n)\n"
   ]
  },
  {
   "cell_type": "code",
   "execution_count": 43,
   "metadata": {},
   "outputs": [
    {
     "name": "stdout",
     "output_type": "stream",
     "text": [
      "Help on class enumerate in module builtins:\n",
      "\n",
      "class enumerate(object)\n",
      " |  enumerate(iterable, start=0)\n",
      " |  \n",
      " |  Return an enumerate object.\n",
      " |  \n",
      " |    iterable\n",
      " |      an object supporting iteration\n",
      " |  \n",
      " |  The enumerate object yields pairs containing a count (from start, which\n",
      " |  defaults to zero) and a value yielded by the iterable argument.\n",
      " |  \n",
      " |  enumerate is useful for obtaining an indexed list:\n",
      " |      (0, seq[0]), (1, seq[1]), (2, seq[2]), ...\n",
      " |  \n",
      " |  Methods defined here:\n",
      " |  \n",
      " |  __getattribute__(self, name, /)\n",
      " |      Return getattr(self, name).\n",
      " |  \n",
      " |  __iter__(self, /)\n",
      " |      Implement iter(self).\n",
      " |  \n",
      " |  __next__(self, /)\n",
      " |      Implement next(self).\n",
      " |  \n",
      " |  __reduce__(...)\n",
      " |      Return state information for pickling.\n",
      " |  \n",
      " |  ----------------------------------------------------------------------\n",
      " |  Static methods defined here:\n",
      " |  \n",
      " |  __new__(*args, **kwargs) from builtins.type\n",
      " |      Create and return a new object.  See help(type) for accurate signature.\n",
      "\n"
     ]
    }
   ],
   "source": [
    "help(enumerate)\n"
   ]
  },
  {
   "cell_type": "code",
   "execution_count": 46,
   "metadata": {},
   "outputs": [
    {
     "name": "stdout",
     "output_type": "stream",
     "text": [
      "[(0, 'G'), (1, 'R'), (2, 'E'), (3, 'E'), (4, 'K')]\n",
      "[(0, 'Python'), (1, 'is'), (2, 'Fun')]\n",
      "((0, 'A'), (1, 'B'), (2, 'C'))\n"
     ]
    }
   ],
   "source": [
    "l1='GREEK'\n",
    "l2=[\"Python\", \"is\", \"Fun\"]\n",
    "l3=(\"A\",\"B\",\"C\")\n",
    "\n",
    "#obj1=enumerate(l1)\n",
    "#obj2=enumerate(l2)\n",
    "print(list(enumerate(l1,0)))\n",
    "print(list(enumerate(l2,0)))\n",
    "print(tuple(enumerate(l3,0)))"
   ]
  },
  {
   "cell_type": "code",
   "execution_count": 50,
   "metadata": {},
   "outputs": [
    {
     "name": "stdout",
     "output_type": "stream",
     "text": [
      "Python 0\n",
      "is 1\n",
      "Fun 2\n"
     ]
    }
   ],
   "source": [
    "l3=(\"A\",\"B\",\"C\")\n",
    "for i,ele in enumerate(l2):\n",
    "    print(ele,i)"
   ]
  },
  {
   "cell_type": "code",
   "execution_count": 51,
   "metadata": {},
   "outputs": [
    {
     "name": "stdout",
     "output_type": "stream",
     "text": [
      "A 0\n",
      "B 1\n",
      "C 2\n"
     ]
    }
   ],
   "source": [
    "l3=(\"A\",\"B\",\"C\")\n",
    "for i,ele in enumerate(l3):\n",
    "    print(ele,i)"
   ]
  },
  {
   "cell_type": "code",
   "execution_count": null,
   "metadata": {},
   "outputs": [],
   "source": []
  }
 ],
 "metadata": {
  "kernelspec": {
   "display_name": "Python 3",
   "language": "python",
   "name": "python3"
  },
  "language_info": {
   "codemirror_mode": {
    "name": "ipython",
    "version": 3
   },
   "file_extension": ".py",
   "mimetype": "text/x-python",
   "name": "python",
   "nbconvert_exporter": "python",
   "pygments_lexer": "ipython3",
   "version": "3.7.1"
  }
 },
 "nbformat": 4,
 "nbformat_minor": 2
}
