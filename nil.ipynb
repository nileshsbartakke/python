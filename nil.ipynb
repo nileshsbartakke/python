{
 "cells": [
  {
   "cell_type": "code",
   "execution_count": 4,
   "metadata": {},
   "outputs": [
    {
     "name": "stdout",
     "output_type": "stream",
     "text": [
      "sum is  5050\n"
     ]
    }
   ],
   "source": [
    "#Advantages of Recursion\n",
    "#Recursive functions make the code look clean and elegant.\n",
    "#A complex task can be broken down into simpler sub-problems using recursion.\n",
    "#Sequence generation is easier with recursion than using some nested iteration.\n",
    "\n"
   ]
  },
  {
   "cell_type": "code",
   "execution_count": 3,
   "metadata": {},
   "outputs": [
    {
     "name": "stdout",
     "output_type": "stream",
     "text": [
      "Enter no:-100\n",
      "Sum of is 1 to 100 is 5050\n"
     ]
    }
   ],
   "source": [
    "#recurration program for addition of 1 to 100\n",
    "def sum1(n):\n",
    "    if n==1:\n",
    "        return 1\n",
    "    else:\n",
    "       return (n+sum1(n-1))\n",
    "num=int(input(\"Enter no:-\"))\n",
    "print(\"Sum of is 1 to\",num, \"is\" ,sum1(num))"
   ]
  },
  {
   "cell_type": "code",
   "execution_count": 6,
   "metadata": {},
   "outputs": [
    {
     "name": "stdout",
     "output_type": "stream",
     "text": [
      "Enter no:-50\n",
      "Factorial Of  50 is  30414093201713378043612608166064768844377641568960512000000000000\n"
     ]
    }
   ],
   "source": [
    "#Recurration program for factorial of 1 to 100\n",
    "def fact(n):\n",
    "    if n==1:\n",
    "        return 1\n",
    "    else:\n",
    "        return (n*fact(n-1))\n",
    "num=int(input(\"Enter no:-\"))\n",
    "print(\"Factorial Of \",num,\"is \",fact(num))"
   ]
  },
  {
   "cell_type": "code",
   "execution_count": 12,
   "metadata": {},
   "outputs": [
    {
     "name": "stdout",
     "output_type": "stream",
     "text": [
      "Enter no:-5\n",
      "[0, 1, 4, 9, 16, 25]\n",
      "Square Of  5 is  None\n"
     ]
    }
   ],
   "source": [
    "def squa(n):\n",
    "    print([i*i for i in range(n+1)])\n",
    "n=int(input(\"Enter no:-\"))\n",
    "print(\"Square Of \",n,\"is \",squa(n))\n",
    "    "
   ]
  },
  {
   "cell_type": "code",
   "execution_count": 13,
   "metadata": {},
   "outputs": [
    {
     "name": "stdout",
     "output_type": "stream",
     "text": [
      "Enter no:-20\n",
      "[0, 1, 8, 27, 64, 125, 216, 343, 512, 729, 1000, 1331, 1728, 2197, 2744, 3375, 4096, 4913, 5832, 6859, 8000]\n",
      "Cube Of  20 is  None\n"
     ]
    }
   ],
   "source": [
    "def cub(n):\n",
    "    print([i*i*i for i in range(n+1)])\n",
    "n=int(input(\"Enter no:-\"))\n",
    "print(\"Cube Of \",n,\"is \",cub(n))   "
   ]
  },
  {
   "cell_type": "code",
   "execution_count": 46,
   "metadata": {},
   "outputs": [
    {
     "name": "stdout",
     "output_type": "stream",
     "text": [
      "Enter no:-10\n",
      "1\n",
      "2\n",
      "3\n",
      "4\n",
      "5\n",
      "6\n",
      "7\n",
      "8\n",
      "9\n",
      "10\n"
     ]
    }
   ],
   "source": [
    "#Python code to Display 1 to n. Without loop\n",
    "def dis(n):\n",
    "    if n > 0:\n",
    "        dis(n-1)\n",
    "        print(n)\n",
    "n=int(input(\"Enter no:-\"))\n",
    "dis(n)"
   ]
  },
  {
   "cell_type": "code",
   "execution_count": 55,
   "metadata": {},
   "outputs": [
    {
     "name": "stdout",
     "output_type": "stream",
     "text": [
      "Enter A:5\n",
      "Enter B:6\n",
      "Original Numbers A: 5 B: 6\n",
      "After Swap A: 6 B: 5\n"
     ]
    }
   ],
   "source": [
    "#Swaping two number Without temp Varibale\n",
    "def swap1(a,b):\n",
    "    print(\"Original Numbers A:\",a,\"B:\",b)\n",
    "    a=a+b\n",
    "    b=a-b\n",
    "    a=a-b\n",
    "    print(\"After Swap A:\",a,\"B:\",b)\n",
    "a=int(input(\"Enter A:\"))   \n",
    "b=int(input(\"Enter B:\"))\n",
    "swap1(a,b)"
   ]
  },
  {
   "cell_type": "code",
   "execution_count": 62,
   "metadata": {},
   "outputs": [
    {
     "name": "stdout",
     "output_type": "stream",
     "text": [
      "Enter 1st Number:220\n",
      "Enter 2st Number:284\n",
      "284 220\n",
      "Amicable numbers\n"
     ]
    }
   ],
   "source": [
    "# Amicable numbers 220,284\n",
    "x=int(input(\"Enter 1st Number:\"))\n",
    "y=int(input(\"Enter 2st Number:\"))\n",
    "sum1=0\n",
    "sum2=0\n",
    "for i in range(1,x):\n",
    "    if x%i==0:\n",
    "        sum1+=i\n",
    "for j in range(1,y):\n",
    "    if y%j==0:\n",
    "        sum2+=j\n",
    "print(sum1,sum2)\n",
    "if(sum1==y and sum2==x):\n",
    "    print(\"Amicable numbers\")\n",
    "else:\n",
    "    print(\"Not Amicable numbers\")\n",
    "        \n",
    "\n"
   ]
  },
  {
   "cell_type": "code",
   "execution_count": 82,
   "metadata": {},
   "outputs": [
    {
     "name": "stdout",
     "output_type": "stream",
     "text": [
      "Enter Year1992\n",
      "1992 Is Leap year\n"
     ]
    }
   ],
   "source": [
    "#Condition\n",
    "#The year can be evenly divided by 4, is a leap year, unless:\n",
    "#The year can be evenly divided by 100, it is NOT a leap year, unless:\n",
    "#The year is also evenly divisible by 400. Then it is a leap year.\n",
    "#find leap year\n",
    "\n",
    "def leap(year):\n",
    "    if year%4==0 and year%100!=0:\n",
    "        print(year,\"Is Leap year\")\n",
    "    else:\n",
    "        print(year,\"Is Not A Leap Year\")\n",
    "year=int(input(\"Enter Year\"))\n",
    "leap(year)\n",
    "\n"
   ]
  },
  {
   "cell_type": "code",
   "execution_count": 96,
   "metadata": {},
   "outputs": [
    {
     "name": "stdout",
     "output_type": "stream",
     "text": [
      "Enter num:-496\n",
      "Perfect Number\n"
     ]
    }
   ],
   "source": [
    "#Perfect number 6,25,496\n",
    "#Find Perfect number\n",
    "def perfec(num):\n",
    "    sum=0\n",
    "    for i in range(1,num):\n",
    "        if num%i==0:\n",
    "            sum+=i\n",
    "    if sum==num: \n",
    "        print(\"Perfect Number\")\n",
    "    else:\n",
    "        print(\"Not A Perfect Number\")\n",
    "    \n",
    "num=int(input(\"Enter num:-\"))\n",
    "perfec(num)"
   ]
  },
  {
   "cell_type": "code",
   "execution_count": null,
   "metadata": {},
   "outputs": [],
   "source": [
    "\n",
    "\n"
   ]
  },
  {
   "cell_type": "code",
   "execution_count": null,
   "metadata": {},
   "outputs": [],
   "source": []
  }
 ],
 "metadata": {
  "kernelspec": {
   "display_name": "Python 3",
   "language": "python",
   "name": "python3"
  },
  "language_info": {
   "codemirror_mode": {
    "name": "ipython",
    "version": 3
   },
   "file_extension": ".py",
   "mimetype": "text/x-python",
   "name": "python",
   "nbconvert_exporter": "python",
   "pygments_lexer": "ipython3",
   "version": "3.7.1"
  }
 },
 "nbformat": 4,
 "nbformat_minor": 2
}
