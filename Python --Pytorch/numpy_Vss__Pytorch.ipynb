{
 "cells": [
  {
   "cell_type": "code",
   "execution_count": null,
   "metadata": {},
   "outputs": [],
   "source": [
    "#Real Power Of pytorch \n",
    "## numpy VS pytorch"
   ]
  },
  {
   "cell_type": "code",
   "execution_count": 15,
   "metadata": {},
   "outputs": [
    {
     "name": "stdout",
     "output_type": "stream",
     "text": [
      "Numpy Time To Take Multiplication in milisec\n",
      "10778.353214263916\n",
      "Torch Time To Take Multiplication in milisec\n",
      "1022.1562385559082\n"
     ]
    }
   ],
   "source": [
    "import numpy as np\n",
    "import torch \n",
    "import time\n",
    "import sys\n",
    "\n",
    "d=3000\n",
    "print(\"Numpy Time To Take Multiplication in milisec\")\n",
    "A=np.random.rand(d,d).astype(np.float32)\n",
    "B=np.random.rand(d,d).astype(np.float32)\n",
    "c=A.dot(B)\n",
    "print((time.time()-start)*1000)\n",
    "\n",
    "start=time.time()\n",
    "print(\"Torch Time To Take Multiplication in milisec\")\n",
    "A=torch.rand(d,d)\n",
    "B=torch.rand(d,d)\n",
    "C=torch.mm(A,B)\n",
    "print((time.time()-start)*1000)"
   ]
  },
  {
   "cell_type": "code",
   "execution_count": null,
   "metadata": {},
   "outputs": [],
   "source": []
  },
  {
   "cell_type": "code",
   "execution_count": null,
   "metadata": {},
   "outputs": [],
   "source": []
  },
  {
   "cell_type": "code",
   "execution_count": null,
   "metadata": {},
   "outputs": [],
   "source": []
  },
  {
   "cell_type": "code",
   "execution_count": null,
   "metadata": {},
   "outputs": [],
   "source": []
  },
  {
   "cell_type": "code",
   "execution_count": null,
   "metadata": {},
   "outputs": [],
   "source": []
  }
 ],
 "metadata": {
  "kernelspec": {
   "display_name": "Python 3",
   "language": "python",
   "name": "python3"
  },
  "language_info": {
   "codemirror_mode": {
    "name": "ipython",
    "version": 3
   },
   "file_extension": ".py",
   "mimetype": "text/x-python",
   "name": "python",
   "nbconvert_exporter": "python",
   "pygments_lexer": "ipython3",
   "version": "3.7.3"
  }
 },
 "nbformat": 4,
 "nbformat_minor": 2
}
