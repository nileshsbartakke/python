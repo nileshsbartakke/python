{
 "cells": [
  {
   "cell_type": "markdown",
   "metadata": {},
   "source": [
    "# what do you mean by __init__{} method in python ?Givean example of it\n",
    "=>It is Constructor of python class\n",
    "__init__ it is called when object of class is constructed"
   ]
  },
  {
   "cell_type": "code",
   "execution_count": 12,
   "metadata": {},
   "outputs": [],
   "source": [
    "class student:\n",
    "    def __init__(self,name,age,branch):\n",
    "        self.name=name\n",
    "        self.age=age\n",
    "        self.branch=branch\n",
    "    def print_name(self):\n",
    "        print(\"Name\",self.name)\n",
    "        print(\"Age\",self.age)\n",
    "        print(\"branch\",self.branch)\n",
    "        "
   ]
  },
  {
   "cell_type": "code",
   "execution_count": 13,
   "metadata": {},
   "outputs": [],
   "source": [
    "student1=student(\"Nilesh\",34,\"ETC\")"
   ]
  },
  {
   "cell_type": "code",
   "execution_count": 14,
   "metadata": {},
   "outputs": [
    {
     "name": "stdout",
     "output_type": "stream",
     "text": [
      "Name Nilesh\n",
      "Age 34\n",
      "branch ETC\n"
     ]
    }
   ],
   "source": [
    "student1.print_name()"
   ]
  },
  {
   "cell_type": "markdown",
   "metadata": {},
   "source": [
    "# what do you mean by inheritance in python?give Example of it."
   ]
  },
  {
   "cell_type": "code",
   "execution_count": 19,
   "metadata": {},
   "outputs": [
    {
     "name": "stdout",
     "output_type": "stream",
     "text": [
      "I Am fruit\n",
      "I am citrus\n",
      "I Am fruit\n",
      "I Am red and heart shape\n"
     ]
    }
   ],
   "source": [
    "class fruit:\n",
    "    def __init__(self):\n",
    "        print(\"I Am fruit\")\n",
    "class citrus(fruit):\n",
    "    def __init__(self):\n",
    "        super().__init__()\n",
    "        print(\"I am citrus\")\n",
    "lemon=citrus()\n"
   ]
  },
  {
   "cell_type": "code",
   "execution_count": 20,
   "metadata": {},
   "outputs": [
    {
     "name": "stdout",
     "output_type": "stream",
     "text": [
      "I Am fruit\n",
      "I Am red and heart shape\n"
     ]
    }
   ],
   "source": [
    "class apple(fruit):\n",
    "    def __init__(self):\n",
    "        super().__init__()\n",
    "        print(\"I Am red and heart shape\")\n",
    "a1=apple()"
   ]
  },
  {
   "cell_type": "code",
   "execution_count": 22,
   "metadata": {},
   "outputs": [
    {
     "name": "stdout",
     "output_type": "stream",
     "text": [
      "1-D Array [1 2 3 4 5]\n",
      "2-D Array [[1 2 3]\n",
      " [4 5 6]]\n"
     ]
    }
   ],
   "source": [
    "import numpy as np\n",
    "oned_array=np.array([1,2,3,4,5])\n",
    "twod_array=np.array([[1,2,3],[4,5,6]])\n",
    "print(\"1-D Array\",oned_array)\n",
    "print(\"2-D Array\",twod_array)"
   ]
  },
  {
   "cell_type": "code",
   "execution_count": 24,
   "metadata": {},
   "outputs": [
    {
     "name": "stdout",
     "output_type": "stream",
     "text": [
      "[0 1 2 3 4]\n"
     ]
    }
   ],
   "source": [
    "import numpy as np\n",
    "a1=np.array([12,45,78,98,100])\n",
    "print(a1.argsort())"
   ]
  },
  {
   "cell_type": "code",
   "execution_count": 28,
   "metadata": {},
   "outputs": [
    {
     "name": "stdout",
     "output_type": "stream",
     "text": [
      "   0\n",
      "0  1\n",
      "1  2\n",
      "2  3\n",
      "3  4\n",
      "    fruit\n",
      "0   Apple\n",
      "1  Orange\n",
      "2   lemon\n"
     ]
    }
   ],
   "source": [
    "import pandas as pd\n",
    "l1=[1,2,3,4]\n",
    "df={'fruit':['Apple','Orange','lemon']}\n",
    "print(pd.DataFrame(l1))\n",
    "print(pd.DataFrame(df))\n"
   ]
  },
  {
   "cell_type": "code",
   "execution_count": 36,
   "metadata": {},
   "outputs": [
    {
     "data": {
      "text/plain": [
       "array([ 0, -1,  2, -1,  4, -1,  6, -1,  8, -1])"
      ]
     },
     "execution_count": 36,
     "metadata": {},
     "output_type": "execute_result"
    }
   ],
   "source": [
    "import numpy as np\n",
    "a1=np.arange(0,10)\n",
    "a1[a1%2==1]=-1\n",
    "a1"
   ]
  },
  {
   "cell_type": "code",
   "execution_count": 40,
   "metadata": {},
   "outputs": [
    {
     "name": "stdout",
     "output_type": "stream",
     "text": [
      "[0 1 2 3 4]\n"
     ]
    },
    {
     "data": {
      "text/plain": [
       "array([0, 1, 2, 3, 4])"
      ]
     },
     "execution_count": 40,
     "metadata": {},
     "output_type": "execute_result"
    }
   ],
   "source": [
    "import numpy as np\n",
    "a1=np.arange(0,10)\n",
    "a2=np.arange(0,5)\n",
    "for i in a1:\n",
    "    if i in a2:\n",
    "        print(a2)\n",
    "        break\n",
    "np.intersect1d(a1,a2)"
   ]
  },
  {
   "cell_type": "code",
   "execution_count": 43,
   "metadata": {},
   "outputs": [
    {
     "name": "stdout",
     "output_type": "stream",
     "text": [
      "0     Hello\n",
      "1    Nilesh\n",
      "2    Jeevan\n",
      "3       A10\n",
      "dtype: object\n"
     ]
    }
   ],
   "source": [
    "import pandas as pd\n",
    "a1=pd.Series(['hello','Nilesh','jeevan','a10'])\n",
    "print(a1.map(lambda x :x.title()))"
   ]
  },
  {
   "cell_type": "code",
   "execution_count": 42,
   "metadata": {},
   "outputs": [
    {
     "name": "stdout",
     "output_type": "stream",
     "text": [
      "0     Hello\n",
      "1    Nilesh\n",
      "2    Jeevan\n",
      "3       A10\n",
      "dtype: object\n"
     ]
    }
   ],
   "source": []
  },
  {
   "cell_type": "code",
   "execution_count": null,
   "metadata": {},
   "outputs": [],
   "source": []
  }
 ],
 "metadata": {
  "kernelspec": {
   "display_name": "Python 3",
   "language": "python",
   "name": "python3"
  },
  "language_info": {
   "codemirror_mode": {
    "name": "ipython",
    "version": 3
   },
   "file_extension": ".py",
   "mimetype": "text/x-python",
   "name": "python",
   "nbconvert_exporter": "python",
   "pygments_lexer": "ipython3",
   "version": "3.7.3"
  }
 },
 "nbformat": 4,
 "nbformat_minor": 2
}
